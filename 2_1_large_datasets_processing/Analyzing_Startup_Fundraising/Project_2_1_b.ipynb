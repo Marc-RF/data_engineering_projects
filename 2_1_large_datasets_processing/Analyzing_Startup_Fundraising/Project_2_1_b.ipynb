{
 "cells": [
  {
   "cell_type": "markdown",
   "metadata": {},
   "source": [
    "# Analyzing Startup Fundraising Deals from Crunchbase\n",
    "\n",
    "## Introduction\n",
    "\n",
    "Every year, thousands of startup companies raise financing from investors. Each time a startup raises money, we refer to the event as a fundraising round. Crunchbase is a website that crowdsources information on the fundraising rounds of many startups. The Crunchbase user community submits, edits, and maintains most of the information in Crunchbase.\n",
    "\n",
    "In return, Crunchbase makes the data available through a Web application and a fee-based API. Before Crunchbase switched to the paid API model, multiple groups crawled the site and released the data online. Because the information on the startups and their fundraising rounds is always changing, the data set we'll be using isn't completely up to date.\n",
    "\n",
    "The data set of investments we'll be exploring is current as of October 2013. You can download it [from GitHub](https://github.com/datahoarder/crunchbase-october-2013/blob/master/crunchbase-investments.csv).\n",
    "\n",
    "Throughout this guided project, we'll practice working with different memory constraints. In this step, let's assume we only have 10 megabytes of available memory. While crunchbase-investments.csv consumes 10.3 megabytes of disk space, we know from earlier missions that pandas often requires 4 to 6 times amount of space in memory as the file does on disk (especially when there's many string columns).\n",
    "\n",
    "## Importing packages"
   ]
  },
  {
   "cell_type": "code",
   "execution_count": 1,
   "metadata": {},
   "outputs": [],
   "source": [
    "import pandas as pd\n",
    "import numpy as np\n",
    "import matplotlib.pyplot as plt\n",
    "import sqlite3"
   ]
  },
  {
   "cell_type": "code",
   "execution_count": 2,
   "metadata": {},
   "outputs": [],
   "source": [
    "pd.options.display.max_columns = 99\n",
    "%matplotlib inline"
   ]
  },
  {
   "cell_type": "markdown",
   "metadata": {},
   "source": [
    "## Defining chunksize for pandas\n",
    "\n",
    "As we only have 10Mb of available memory, the chunksize parameter needs to be set so that we can read the CSV file without problems.\n",
    "\n",
    "Let's start with a chunksize of 5000. The memory usage should be around 5Mb (~50% of the max memory)"
   ]
  },
  {
   "cell_type": "code",
   "execution_count": 3,
   "metadata": {},
   "outputs": [
    {
     "name": "stdout",
     "output_type": "stream",
     "text": [
      "Memory Usage per chunk: [5.579195022583008, 5.528186798095703, 5.535004615783691, 5.528155326843262, 5.524299621582031, 5.553397178649902, 5.531391143798828, 5.509613037109375, 5.396082878112793, 4.63945198059082, 2.663668632507324]\n",
      "Min Memory Usage per chunk: 2.663668632507324\n",
      "Max Memory Usage per chunk: 5.579195022583008\n",
      "\n",
      "Total Memory: 56.98844623565674\n"
     ]
    }
   ],
   "source": [
    "chunk_iter = pd.read_csv(\"my_datasets/crunchbase-investments.csv\", chunksize=5000, encoding='ISO-8859-1')\n",
    "\n",
    "memory = [chunk.memory_usage(deep=True).sum()/2**20 for chunk in chunk_iter]\n",
    "print(\"Memory Usage per chunk:\", memory)\n",
    "print(\"Min Memory Usage per chunk:\", min(memory))\n",
    "print(\"Max Memory Usage per chunk:\", max(memory))\n",
    "total_memory = sum(memory)\n",
    "print(\"\\nTotal Memory:\",total_memory)"
   ]
  },
  {
   "cell_type": "code",
   "execution_count": 4,
   "metadata": {},
   "outputs": [
    {
     "name": "stdout",
     "output_type": "stream",
     "text": [
      "Memory Usage per column:\n",
      " Index                     0.000877\n",
      "company_category_code     3.262619\n",
      "company_city              3.343493\n",
      "company_country_code      3.025223\n",
      "company_name              3.424955\n",
      "company_permalink         3.869808\n",
      "company_region            3.253522\n",
      "company_state_code        2.962161\n",
      "funded_at                 3.378091\n",
      "funded_month              3.226837\n",
      "funded_quarter            3.226837\n",
      "funded_year               0.403366\n",
      "funding_round_type        3.252704\n",
      "investor_category_code    0.593590\n",
      "investor_city             2.751430\n",
      "investor_country_code     2.524654\n",
      "investor_name             3.734270\n",
      "investor_permalink        4.749821\n",
      "investor_region           3.238946\n",
      "investor_state_code       2.361876\n",
      "raised_amount_usd         0.403366\n",
      "dtype: float64\n"
     ]
    }
   ],
   "source": [
    "# Columns memory footprint\n",
    "chunk_iter = pd.read_csv(\"my_datasets/crunchbase-investments.csv\", chunksize=5000, encoding='ISO-8859-1')\n",
    "col_footprint_comb = pd.concat([chunk.memory_usage(deep=True)/2**20 for chunk in chunk_iter])\n",
    "col_footprint = col_footprint_comb.groupby(col_footprint_comb.index).sum()\n",
    "print(\"Memory Usage per column:\\n\",col_footprint)"
   ]
  },
  {
   "cell_type": "markdown",
   "metadata": {},
   "source": [
    "A **chunksize of 5000** seems good for our purpose.\n",
    "\n",
    "## Exploring columns\n",
    "\n",
    "Let's dig a bit on the different columns:"
   ]
  },
  {
   "cell_type": "code",
   "execution_count": 5,
   "metadata": {},
   "outputs": [
    {
     "name": "stdout",
     "output_type": "stream",
     "text": [
      "Number of rows: 52870\n"
     ]
    }
   ],
   "source": [
    "# Number of rows\n",
    "chunk_iter = pd.read_csv(\"my_datasets/crunchbase-investments.csv\", chunksize=5000, encoding='ISO-8859-1')\n",
    "n_rows = sum([len(chunk) for chunk in chunk_iter])\n",
    "print(\"Number of rows:\",n_rows)"
   ]
  },
  {
   "cell_type": "code",
   "execution_count": 6,
   "metadata": {},
   "outputs": [
    {
     "data": {
      "text/plain": [
       "company_country_code          1\n",
       "company_name                  1\n",
       "company_permalink             1\n",
       "company_region                1\n",
       "investor_region               2\n",
       "investor_permalink            2\n",
       "investor_name                 2\n",
       "funded_quarter                3\n",
       "funded_at                     3\n",
       "funded_month                  3\n",
       "funded_year                   3\n",
       "funding_round_type            3\n",
       "company_state_code          492\n",
       "company_city                533\n",
       "company_category_code       643\n",
       "raised_amount_usd          3599\n",
       "investor_country_code     12001\n",
       "investor_city             12480\n",
       "investor_state_code       16809\n",
       "investor_category_code    50427\n",
       "dtype: int64"
      ]
     },
     "execution_count": 6,
     "metadata": {},
     "output_type": "execute_result"
    }
   ],
   "source": [
    "# Missing values\n",
    "chunk_iter = pd.read_csv(\"my_datasets/crunchbase-investments.csv\", chunksize=5000, encoding='ISO-8859-1')\n",
    "missing_comb = pd.concat([chunk.isnull().sum() for chunk in chunk_iter])\n",
    "missing_values = missing_comb.groupby(missing_comb.index).sum().sort_values()\n",
    "missing_values"
   ]
  },
  {
   "cell_type": "code",
   "execution_count": 7,
   "metadata": {},
   "outputs": [
    {
     "data": {
      "text/plain": [
       "company_permalink          object\n",
       "company_name               object\n",
       "company_category_code      object\n",
       "company_country_code       object\n",
       "company_state_code         object\n",
       "company_region             object\n",
       "company_city               object\n",
       "investor_permalink         object\n",
       "investor_name              object\n",
       "investor_category_code     object\n",
       "investor_country_code      object\n",
       "investor_state_code        object\n",
       "investor_region            object\n",
       "investor_city              object\n",
       "funding_round_type         object\n",
       "funded_at                  object\n",
       "funded_month               object\n",
       "funded_quarter             object\n",
       "funded_year                 int64\n",
       "raised_amount_usd         float64\n",
       "dtype: object"
      ]
     },
     "execution_count": 7,
     "metadata": {},
     "output_type": "execute_result"
    }
   ],
   "source": [
    "# Data types\n",
    "chunk_iter = pd.read_csv(\"my_datasets/crunchbase-investments.csv\", chunksize=5000, encoding='ISO-8859-1')\n",
    "chunk_iter.get_chunk(20).dtypes"
   ]
  },
  {
   "cell_type": "code",
   "execution_count": 8,
   "metadata": {},
   "outputs": [
    {
     "data": {
      "text/html": [
       "<div>\n",
       "<style scoped>\n",
       "    .dataframe tbody tr th:only-of-type {\n",
       "        vertical-align: middle;\n",
       "    }\n",
       "\n",
       "    .dataframe tbody tr th {\n",
       "        vertical-align: top;\n",
       "    }\n",
       "\n",
       "    .dataframe thead th {\n",
       "        text-align: right;\n",
       "    }\n",
       "</style>\n",
       "<table border=\"1\" class=\"dataframe\">\n",
       "  <thead>\n",
       "    <tr style=\"text-align: right;\">\n",
       "      <th></th>\n",
       "      <th>company_permalink</th>\n",
       "      <th>company_name</th>\n",
       "      <th>company_category_code</th>\n",
       "      <th>company_country_code</th>\n",
       "      <th>company_state_code</th>\n",
       "      <th>company_region</th>\n",
       "      <th>company_city</th>\n",
       "      <th>investor_permalink</th>\n",
       "      <th>investor_name</th>\n",
       "      <th>investor_category_code</th>\n",
       "      <th>investor_country_code</th>\n",
       "      <th>investor_state_code</th>\n",
       "      <th>investor_region</th>\n",
       "      <th>investor_city</th>\n",
       "      <th>funding_round_type</th>\n",
       "      <th>funded_at</th>\n",
       "      <th>funded_month</th>\n",
       "      <th>funded_quarter</th>\n",
       "      <th>funded_year</th>\n",
       "      <th>raised_amount_usd</th>\n",
       "    </tr>\n",
       "  </thead>\n",
       "  <tbody>\n",
       "    <tr>\n",
       "      <th>20</th>\n",
       "      <td>/company/ecotality</td>\n",
       "      <td>ECOtality</td>\n",
       "      <td>cleantech</td>\n",
       "      <td>USA</td>\n",
       "      <td>CA</td>\n",
       "      <td>SF Bay</td>\n",
       "      <td>San Francisco</td>\n",
       "      <td>/company/abb</td>\n",
       "      <td>ABB</td>\n",
       "      <td>cleantech</td>\n",
       "      <td>CHE</td>\n",
       "      <td>NaN</td>\n",
       "      <td>Zurich</td>\n",
       "      <td>Zurich</td>\n",
       "      <td>venture</td>\n",
       "      <td>2011-01-09</td>\n",
       "      <td>2011-01</td>\n",
       "      <td>2011-Q1</td>\n",
       "      <td>2011</td>\n",
       "      <td>10000000</td>\n",
       "    </tr>\n",
       "    <tr>\n",
       "      <th>21</th>\n",
       "      <td>/company/evalve</td>\n",
       "      <td>Evalve</td>\n",
       "      <td>biotech</td>\n",
       "      <td>USA</td>\n",
       "      <td>CA</td>\n",
       "      <td>SF Bay</td>\n",
       "      <td>Menlo Park</td>\n",
       "      <td>/company/abbott</td>\n",
       "      <td>Abbott Labs</td>\n",
       "      <td>biotech</td>\n",
       "      <td>USA</td>\n",
       "      <td>IL</td>\n",
       "      <td>Chicago</td>\n",
       "      <td>Des Plaines</td>\n",
       "      <td>series-c+</td>\n",
       "      <td>2007-11-27</td>\n",
       "      <td>2007-11</td>\n",
       "      <td>2007-Q4</td>\n",
       "      <td>2007</td>\n",
       "      <td>60000000</td>\n",
       "    </tr>\n",
       "    <tr>\n",
       "      <th>22</th>\n",
       "      <td>/company/ovalis</td>\n",
       "      <td>Ovalis</td>\n",
       "      <td>biotech</td>\n",
       "      <td>USA</td>\n",
       "      <td>CA</td>\n",
       "      <td>SF Bay</td>\n",
       "      <td>Mountain View</td>\n",
       "      <td>/company/abbott</td>\n",
       "      <td>Abbott Labs</td>\n",
       "      <td>biotech</td>\n",
       "      <td>USA</td>\n",
       "      <td>IL</td>\n",
       "      <td>Chicago</td>\n",
       "      <td>Des Plaines</td>\n",
       "      <td>series-b</td>\n",
       "      <td>2007-01-30</td>\n",
       "      <td>2007-01</td>\n",
       "      <td>2007-Q1</td>\n",
       "      <td>2007</td>\n",
       "      <td>6600000</td>\n",
       "    </tr>\n",
       "    <tr>\n",
       "      <th>23</th>\n",
       "      <td>/company/alvine-pharmaceuticals</td>\n",
       "      <td>Alvine Pharmaceuticals</td>\n",
       "      <td>biotech</td>\n",
       "      <td>USA</td>\n",
       "      <td>CA</td>\n",
       "      <td>SF Bay</td>\n",
       "      <td>San Carlos</td>\n",
       "      <td>/company/abbvie</td>\n",
       "      <td>AbbVie</td>\n",
       "      <td>biotech</td>\n",
       "      <td>USA</td>\n",
       "      <td>IL</td>\n",
       "      <td>Chicago</td>\n",
       "      <td>Chicago</td>\n",
       "      <td>private-equity</td>\n",
       "      <td>2013-05-14</td>\n",
       "      <td>2013-05</td>\n",
       "      <td>2013-Q2</td>\n",
       "      <td>2013</td>\n",
       "      <td>70000000</td>\n",
       "    </tr>\n",
       "    <tr>\n",
       "      <th>24</th>\n",
       "      <td>/company/avaxia-biologics</td>\n",
       "      <td>Avaxia Biologics</td>\n",
       "      <td>biotech</td>\n",
       "      <td>USA</td>\n",
       "      <td>MA</td>\n",
       "      <td>Boston</td>\n",
       "      <td>Lexington</td>\n",
       "      <td>/company/abbvie</td>\n",
       "      <td>AbbVie</td>\n",
       "      <td>biotech</td>\n",
       "      <td>USA</td>\n",
       "      <td>IL</td>\n",
       "      <td>Chicago</td>\n",
       "      <td>Chicago</td>\n",
       "      <td>series-b</td>\n",
       "      <td>2013-06-07</td>\n",
       "      <td>2013-06</td>\n",
       "      <td>2013-Q2</td>\n",
       "      <td>2013</td>\n",
       "      <td>11500000</td>\n",
       "    </tr>\n",
       "  </tbody>\n",
       "</table>\n",
       "</div>"
      ],
      "text/plain": [
       "                  company_permalink            company_name  \\\n",
       "20               /company/ecotality               ECOtality   \n",
       "21                  /company/evalve                  Evalve   \n",
       "22                  /company/ovalis                  Ovalis   \n",
       "23  /company/alvine-pharmaceuticals  Alvine Pharmaceuticals   \n",
       "24        /company/avaxia-biologics        Avaxia Biologics   \n",
       "\n",
       "   company_category_code company_country_code company_state_code  \\\n",
       "20             cleantech                  USA                 CA   \n",
       "21               biotech                  USA                 CA   \n",
       "22               biotech                  USA                 CA   \n",
       "23               biotech                  USA                 CA   \n",
       "24               biotech                  USA                 MA   \n",
       "\n",
       "   company_region   company_city investor_permalink investor_name  \\\n",
       "20         SF Bay  San Francisco       /company/abb           ABB   \n",
       "21         SF Bay     Menlo Park    /company/abbott   Abbott Labs   \n",
       "22         SF Bay  Mountain View    /company/abbott   Abbott Labs   \n",
       "23         SF Bay     San Carlos    /company/abbvie        AbbVie   \n",
       "24         Boston      Lexington    /company/abbvie        AbbVie   \n",
       "\n",
       "   investor_category_code investor_country_code investor_state_code  \\\n",
       "20              cleantech                   CHE                 NaN   \n",
       "21                biotech                   USA                  IL   \n",
       "22                biotech                   USA                  IL   \n",
       "23                biotech                   USA                  IL   \n",
       "24                biotech                   USA                  IL   \n",
       "\n",
       "   investor_region investor_city funding_round_type   funded_at funded_month  \\\n",
       "20          Zurich        Zurich            venture  2011-01-09      2011-01   \n",
       "21         Chicago   Des Plaines          series-c+  2007-11-27      2007-11   \n",
       "22         Chicago   Des Plaines           series-b  2007-01-30      2007-01   \n",
       "23         Chicago       Chicago     private-equity  2013-05-14      2013-05   \n",
       "24         Chicago       Chicago           series-b  2013-06-07      2013-06   \n",
       "\n",
       "   funded_quarter  funded_year  raised_amount_usd  \n",
       "20        2011-Q1         2011           10000000  \n",
       "21        2007-Q4         2007           60000000  \n",
       "22        2007-Q1         2007            6600000  \n",
       "23        2013-Q2         2013           70000000  \n",
       "24        2013-Q2         2013           11500000  "
      ]
     },
     "execution_count": 8,
     "metadata": {},
     "output_type": "execute_result"
    }
   ],
   "source": [
    "# Exploring content\n",
    "chunk_iter.get_chunk(5)"
   ]
  },
  {
   "cell_type": "code",
   "execution_count": 9,
   "metadata": {},
   "outputs": [],
   "source": [
    "# Getting column names\n",
    "col_names = chunk_iter.get_chunk(1).columns"
   ]
  },
  {
   "cell_type": "code",
   "execution_count": 10,
   "metadata": {},
   "outputs": [],
   "source": [
    "# # Exploring unique values\n",
    "# unique = {}\n",
    "# for col in col_names:\n",
    "#     unique[col] = []\n",
    "\n",
    "# chunk_iter = pd.read_csv(\"my_datasets/crunchbase-investments.csv\", chunksize=5000, encoding='ISO-8859-1')\n",
    "# for chunk in chunk_iter:\n",
    "#     for col in chunk.columns:\n",
    "#         unique_vals = chunk[col].unique()\n",
    "#         unique[col].extend([v for v in unique_vals if v not in unique[col] and v is not np.nan])"
   ]
  },
  {
   "cell_type": "code",
   "execution_count": 11,
   "metadata": {},
   "outputs": [],
   "source": [
    "# Exploring unique values\n",
    "value_counts = {}\n",
    "for col in col_names:\n",
    "    value_counts[col] = []\n",
    "\n",
    "chunk_iter = pd.read_csv(\"my_datasets/crunchbase-investments.csv\", chunksize=5000, encoding='ISO-8859-1')    \n",
    "for chunk in chunk_iter:\n",
    "    for col in chunk.columns:\n",
    "        value_counts[col].append(chunk[col].value_counts(dropna=False))\n",
    "for col in chunk.columns:      \n",
    "    comb = pd.concat(value_counts[col])\n",
    "    comb = comb.groupby(comb.index).sum().sort_values()\n",
    "    value_counts[col] = comb"
   ]
  },
  {
   "cell_type": "code",
   "execution_count": 12,
   "metadata": {},
   "outputs": [
    {
     "name": "stdout",
     "output_type": "stream",
     "text": [
      "Unique values:\n",
      "- company_permalink : 11573\n",
      "- company_name : 11573\n",
      "- company_category_code : 43\n",
      "- company_country_code : 2\n",
      "- company_state_code : 50\n",
      "- company_region : 546\n",
      "- company_city : 1229\n",
      "- investor_permalink : 10552\n",
      "- investor_name : 10465\n",
      "- investor_category_code : 33\n",
      "- investor_country_code : 72\n",
      "- investor_state_code : 50\n",
      "- investor_region : 585\n",
      "- investor_city : 990\n",
      "- funding_round_type : 9\n",
      "- funded_at : 2808\n",
      "- funded_month : 192\n",
      "- funded_quarter : 72\n",
      "- funded_year : 20\n",
      "- raised_amount_usd : 1458\n"
     ]
    }
   ],
   "source": [
    "print(\"Unique values:\")\n",
    "for key in value_counts:\n",
    "    print(\"-\", key, \":\", len(value_counts[key]))"
   ]
  },
  {
   "cell_type": "code",
   "execution_count": 13,
   "metadata": {},
   "outputs": [
    {
     "name": "stdout",
     "output_type": "stream",
     "text": [
      "Percentage of unique values:\n",
      "- company_permalink : 21.89%\n",
      "- company_name : 21.89%\n",
      "- company_category_code : 0.08%\n",
      "- company_country_code : 0.00%\n",
      "- company_state_code : 0.10%\n",
      "- company_region : 1.03%\n",
      "- company_city : 2.35%\n",
      "- investor_permalink : 19.96%\n",
      "- investor_name : 19.79%\n",
      "- investor_category_code : 1.35%\n",
      "- investor_country_code : 0.18%\n",
      "- investor_state_code : 0.14%\n",
      "- investor_region : 1.11%\n",
      "- investor_city : 2.45%\n",
      "- funding_round_type : 0.02%\n",
      "- funded_at : 5.31%\n",
      "- funded_month : 0.36%\n",
      "- funded_quarter : 0.14%\n",
      "- funded_year : 0.04%\n",
      "- raised_amount_usd : 2.96%\n"
     ]
    }
   ],
   "source": [
    "print(\"Percentage of unique values:\")\n",
    "for key in value_counts:\n",
    "    valid_rows = value_counts[key].sum()\n",
    "    print(\"-\", key, \":\", \"{:.2f}%\".format(len(value_counts[key])/valid_rows*100))"
   ]
  },
  {
   "cell_type": "markdown",
   "metadata": {},
   "source": [
    "We will drop columns that aren't useful for analysis:\n",
    "- Links\n",
    "- Too many missing values (>50%)\n",
    "- Redundand information"
   ]
  },
  {
   "cell_type": "code",
   "execution_count": 14,
   "metadata": {},
   "outputs": [
    {
     "data": {
      "text/plain": [
       "Index(['company_name', 'company_category_code', 'company_country_code',\n",
       "       'company_state_code', 'company_region', 'company_city', 'investor_name',\n",
       "       'investor_country_code', 'investor_state_code', 'investor_region',\n",
       "       'investor_city', 'funding_round_type', 'funded_at',\n",
       "       'raised_amount_usd'],\n",
       "      dtype='object')"
      ]
     },
     "execution_count": 14,
     "metadata": {},
     "output_type": "execute_result"
    }
   ],
   "source": [
    "drop_cols = [\"investor_permalink\",\"company_permalink\",\"investor_category_code\", \"funded_month\", \"funded_quarter\", \"funded_year\"]\n",
    "keep_cols = chunk.columns.drop(drop_cols)\n",
    "keep_cols"
   ]
  },
  {
   "cell_type": "markdown",
   "metadata": {},
   "source": [
    "## Selecting Data Types\n",
    "\n",
    "Now that we have a good sense of the missing values, let's get familiar with the column types before adding the data into SQLite.\n",
    "\n",
    "After taking a look to the data:\n",
    "- company_name : TEXT\n",
    "- company_category_code : TEXT -> Category\n",
    "- company_country_code : TEXT -> Category\n",
    "- company_state_code : TEXT -> Category\n",
    "- company_region : TEXT -> Category\n",
    "- company_city : TEXT -> Category\n",
    "- investor_name : TEXT\n",
    "- investor_country_code : TEXT -> Category\n",
    "- investor_state_code : TEXT -> Category\n",
    "- investor_region : TEXT -> Category\n",
    "- investor_city : TEXT -> Category\n",
    "- funding_round_type : TEXT -> Category\n",
    "- funded_at : DATE\n",
    "- raised_amount_usd : FLOAT"
   ]
  },
  {
   "cell_type": "code",
   "execution_count": 15,
   "metadata": {},
   "outputs": [
    {
     "name": "stdout",
     "output_type": "stream",
     "text": [
      "Memory Usage per chunk: [0.959895133972168, 0.9593954086303711, 0.9572210311889648, 0.9300775527954102, 0.9590654373168945, 0.9625625610351562, 0.9615554809570312, 0.9449682235717773, 0.9200410842895508, 0.8319911956787109, 0.4919147491455078]\n",
      "Min Memory Usage per chunk: 0.4919147491455078\n",
      "Max Memory Usage per chunk: 0.9625625610351562\n",
      "\n",
      "Total Memory: 9.878687858581543\n"
     ]
    }
   ],
   "source": [
    "data_types = {\n",
    "    \"company_category_code\": \"category\",\n",
    "    \"company_country_code\": \"category\",\n",
    "    \"company_state_code\": \"category\",\n",
    "    \"company_region\": \"category\",\n",
    "    \"company_city\": \"category\",\n",
    "    \"investor_country_code\": \"category\",\n",
    "    \"investor_state_code\": \"category\",\n",
    "    \"investor_region\": \"category\",\n",
    "    \"investor_city\": \"category\",\n",
    "    \"funding_round_type\": \"category\"\n",
    "}\n",
    "\n",
    "chunk_iter = pd.read_csv(\"my_datasets/crunchbase-investments.csv\", chunksize=5000, encoding='ISO-8859-1',\n",
    "                         usecols=keep_cols, dtype=data_types, parse_dates=[\"funded_at\"])\n",
    "\n",
    "new_memory = []\n",
    "for chunk in chunk_iter:\n",
    "    new_memory.append(chunk.memory_usage(deep=True).sum()/2**20)\n",
    "print(\"Memory Usage per chunk:\", new_memory)\n",
    "print(\"Min Memory Usage per chunk:\", min(new_memory))\n",
    "print(\"Max Memory Usage per chunk:\", max(new_memory))\n",
    "total_new_memory = sum(new_memory)\n",
    "print(\"\\nTotal Memory:\",total_new_memory)"
   ]
  },
  {
   "cell_type": "code",
   "execution_count": 16,
   "metadata": {},
   "outputs": [
    {
     "data": {
      "text/plain": [
       "company_name                     object\n",
       "company_category_code          category\n",
       "company_country_code           category\n",
       "company_state_code             category\n",
       "company_region                 category\n",
       "company_city                   category\n",
       "investor_name                    object\n",
       "investor_country_code          category\n",
       "investor_state_code            category\n",
       "investor_region                category\n",
       "investor_city                  category\n",
       "funding_round_type             category\n",
       "funded_at                datetime64[ns]\n",
       "raised_amount_usd               float64\n",
       "dtype: object"
      ]
     },
     "execution_count": 16,
     "metadata": {},
     "output_type": "execute_result"
    }
   ],
   "source": [
    "chunk.dtypes"
   ]
  },
  {
   "cell_type": "markdown",
   "metadata": {},
   "source": [
    "Deleting some of the columns and modifying the type of others, **we could lower the required memory from 57Mb to 9.9Mb**\n",
    "\n",
    "## Loading Chunks Into SQLite\n",
    "\n",
    "Now we're in good shape to start exploring and analyzing the data. The next step is to load each chunk into a table in a SQLite database so we can query the full data set."
   ]
  },
  {
   "cell_type": "code",
   "execution_count": 17,
   "metadata": {},
   "outputs": [],
   "source": [
    "conn = sqlite3.connect(\"my_datasets/crunchbase.db\")\n",
    "cur = conn.cursor()\n",
    "cur.execute(\"DELETE FROM investments\")\n",
    "conn.commit()\n",
    "\n",
    "chunk_iter = pd.read_csv(\"my_datasets/crunchbase-investments.csv\", chunksize=5000, encoding='ISO-8859-1',\n",
    "                         usecols=keep_cols, dtype=data_types, parse_dates=[\"funded_at\"])\n",
    "\n",
    "for chunk in chunk_iter:\n",
    "    chunk.to_sql(\"investments\", conn, if_exists='append', index=False)"
   ]
  },
  {
   "cell_type": "code",
   "execution_count": 18,
   "metadata": {},
   "outputs": [
    {
     "name": "stdout",
     "output_type": "stream",
     "text": [
      "  company_name company_category_code company_country_code company_state_code  \\\n",
      "0     AdverCar           advertising                  USA                 CA   \n",
      "1   LaunchGram                  news                  USA                 CA   \n",
      "2         uTaP             messaging                  USA                NaN   \n",
      "3     ZoopShop              software                  USA                 OH   \n",
      "4     eFuneral                   web                  USA                 OH   \n",
      "\n",
      "          company_region   company_city      investor_name  \\\n",
      "0                 SF Bay  San Francisco  1-800-FLOWERS.COM   \n",
      "1                 SF Bay  Mountain View        10Xelerator   \n",
      "2  United States - Other            NaN        10Xelerator   \n",
      "3               Columbus       columbus        10Xelerator   \n",
      "4              Cleveland      Cleveland        10Xelerator   \n",
      "\n",
      "  investor_country_code investor_state_code investor_region investor_city  \\\n",
      "0                   USA                  NY        New York      New York   \n",
      "1                   USA                  OH        Columbus      Columbus   \n",
      "2                   USA                  OH        Columbus      Columbus   \n",
      "3                   USA                  OH        Columbus      Columbus   \n",
      "4                   USA                  OH        Columbus      Columbus   \n",
      "\n",
      "  funding_round_type  funded_at  raised_amount_usd  \n",
      "0           series-a 2012-10-30          2000000.0  \n",
      "1              other 2012-01-23            20000.0  \n",
      "2              other 2012-01-01            20000.0  \n",
      "3              angel 2012-02-15            20000.0  \n",
      "4              other 2011-09-08            20000.0  \n",
      "<class 'pandas.core.frame.DataFrame'>\n",
      "RangeIndex: 5 entries, 0 to 4\n",
      "Data columns (total 14 columns):\n",
      "company_name             5 non-null object\n",
      "company_category_code    5 non-null category\n",
      "company_country_code     5 non-null category\n",
      "company_state_code       4 non-null category\n",
      "company_region           5 non-null category\n",
      "company_city             4 non-null category\n",
      "investor_name            5 non-null object\n",
      "investor_country_code    5 non-null category\n",
      "investor_state_code      5 non-null category\n",
      "investor_region          5 non-null category\n",
      "investor_city            5 non-null category\n",
      "funding_round_type       5 non-null category\n",
      "funded_at                5 non-null datetime64[ns]\n",
      "raised_amount_usd        5 non-null float64\n",
      "dtypes: category(10), datetime64[ns](1), float64(1), object(2)\n",
      "memory usage: 1.5+ KB\n",
      "None\n"
     ]
    }
   ],
   "source": [
    "q = \"\"\"\n",
    "SELECT *\n",
    "FROM investments\n",
    "LIMIT 5\n",
    "\"\"\"\n",
    "test = pd.read_sql(q,conn, parse_dates=[\"funded_at\"])\n",
    "test = test.astype(data_types)\n",
    "print(test.head())\n",
    "print(test.info())"
   ]
  },
  {
   "cell_type": "code",
   "execution_count": 19,
   "metadata": {},
   "outputs": [],
   "source": [
    "conn.close()"
   ]
  },
  {
   "cell_type": "markdown",
   "metadata": {},
   "source": [
    "We could store the CSV into a SQLite DB to later parse the information with read_sql().\n",
    "\n",
    "However, data types are not automatically set after running the queries and must be manually changed with df.astype().\n",
    "\n",
    "## Data Exploration and Analysis\n",
    "\n",
    "Now that the data is in SQLite, we can use the pandas SQLite workflow we learned in the last mission to explore and analyze startup investments. Remember that each row isn't a unique company, but a unique investment from a single investor. This means that many startups will span multiple rows.\n",
    "\n",
    "- What proportion of the total amount of funds did the top 10% raise? What about the top 1%? Compare these values to the proportions the bottom 10% and bottom 1% raised?\n",
    "\n",
    "    There are **11573** different companies. The top 10% corresponds to the best 1157 companies."
   ]
  },
  {
   "cell_type": "code",
   "execution_count": 20,
   "metadata": {},
   "outputs": [],
   "source": [
    "conn = sqlite3.connect(\"my_datasets/crunchbase.db\")\n",
    "\n",
    "# Top10% of companies\n",
    "q = \"\"\"\n",
    "SELECT company_name, SUM(raised_amount_usd)/1000000 AS total_received_millions\n",
    "FROM investments\n",
    "GROUP BY company_name\n",
    "ORDER BY total_received_millions DESC\n",
    "LIMIT 1157\n",
    "\"\"\"\n",
    "top10 = pd.read_sql(q,conn, parse_dates=[\"funded_at\"])\n",
    "\n",
    "# Total investment in the database\n",
    "q = \"\"\"\n",
    "SELECT SUM(raised_amount_usd)/1000000\n",
    "FROM investments\n",
    "\"\"\"\n",
    "total_inv_millions = pd.read_sql(q,conn, parse_dates=[\"funded_at\"]).iloc[0,0]\n",
    "conn.close()"
   ]
  },
  {
   "cell_type": "code",
   "execution_count": 21,
   "metadata": {},
   "outputs": [
    {
     "name": "stdout",
     "output_type": "stream",
     "text": [
      "The top10% of companies got the 67.13% of all the investments.\n"
     ]
    }
   ],
   "source": [
    "#Proportion Top10%\n",
    "prop_top10 = top10[\"total_received_millions\"].sum()/total_inv_millions *100\n",
    "print(\"The top10% of companies got the {:.2f}% of all the investments.\".format(prop_top10))"
   ]
  },
  {
   "cell_type": "code",
   "execution_count": 22,
   "metadata": {},
   "outputs": [
    {
     "name": "stdout",
     "output_type": "stream",
     "text": [
      "The top1% of companies got the 26.22% of all the investments.\n"
     ]
    }
   ],
   "source": [
    "#Proportion Top1% -> 115 companies\n",
    "prop_top1 = top10[\"total_received_millions\"].iloc[:115].sum()/total_inv_millions *100\n",
    "print(\"The top1% of companies got the {:.2f}% of all the investments.\".format(prop_top1))"
   ]
  },
  {
   "cell_type": "markdown",
   "metadata": {},
   "source": [
    "    Bottom 10% and Bottom 1% are practically 0%.\n",
    "\n",
    "- Which category of company attracted the most investments?"
   ]
  },
  {
   "cell_type": "code",
   "execution_count": 23,
   "metadata": {},
   "outputs": [],
   "source": [
    "conn = sqlite3.connect(\"my_datasets/crunchbase.db\")\n",
    "\n",
    "# Most attractive company category\n",
    "q = \"\"\"\n",
    "SELECT company_category_code AS category, SUM(raised_amount_usd)/1000000 AS total_received_millions\n",
    "FROM investments\n",
    "GROUP BY company_category_code\n",
    "ORDER BY total_received_millions DESC\n",
    "\"\"\"\n",
    "best_categories = pd.read_sql(q,conn, parse_dates=[\"funded_at\"])\n",
    "\n",
    "conn.close()"
   ]
  },
  {
   "cell_type": "code",
   "execution_count": 24,
   "metadata": {},
   "outputs": [
    {
     "data": {
      "text/html": [
       "<div>\n",
       "<style scoped>\n",
       "    .dataframe tbody tr th:only-of-type {\n",
       "        vertical-align: middle;\n",
       "    }\n",
       "\n",
       "    .dataframe tbody tr th {\n",
       "        vertical-align: top;\n",
       "    }\n",
       "\n",
       "    .dataframe thead th {\n",
       "        text-align: right;\n",
       "    }\n",
       "</style>\n",
       "<table border=\"1\" class=\"dataframe\">\n",
       "  <thead>\n",
       "    <tr style=\"text-align: right;\">\n",
       "      <th></th>\n",
       "      <th>category</th>\n",
       "      <th>total_received_millions</th>\n",
       "    </tr>\n",
       "  </thead>\n",
       "  <tbody>\n",
       "    <tr>\n",
       "      <th>0</th>\n",
       "      <td>biotech</td>\n",
       "      <td>110396.423062</td>\n",
       "    </tr>\n",
       "    <tr>\n",
       "      <th>1</th>\n",
       "      <td>software</td>\n",
       "      <td>73084.516724</td>\n",
       "    </tr>\n",
       "    <tr>\n",
       "      <th>2</th>\n",
       "      <td>mobile</td>\n",
       "      <td>64777.379752</td>\n",
       "    </tr>\n",
       "  </tbody>\n",
       "</table>\n",
       "</div>"
      ],
      "text/plain": [
       "   category  total_received_millions\n",
       "0   biotech            110396.423062\n",
       "1  software             73084.516724\n",
       "2    mobile             64777.379752"
      ]
     },
     "execution_count": 24,
     "metadata": {},
     "output_type": "execute_result"
    }
   ],
   "source": [
    "best_categories.head(3)"
   ]
  },
  {
   "cell_type": "markdown",
   "metadata": {},
   "source": [
    "    The Top-3 most-attractive categories are:\n",
    "        1. Biotech, with 110396 million dollars\n",
    "        2. Software, with 73084 million dollars\n",
    "        3. Mobile, with 64777 million dollars\n",
    "        \n",
    "- Which investor contributed the most money (across all startups)?"
   ]
  },
  {
   "cell_type": "code",
   "execution_count": 25,
   "metadata": {},
   "outputs": [],
   "source": [
    "conn = sqlite3.connect(\"my_datasets/crunchbase.db\")\n",
    "\n",
    "# Top 3 investors\n",
    "q = \"\"\"\n",
    "SELECT investor_name AS investor, SUM(raised_amount_usd)/1000000 AS total_invested_millions\n",
    "FROM investments\n",
    "GROUP BY investor_name\n",
    "ORDER BY total_invested_millions DESC\n",
    "LIMIT 10\n",
    "\"\"\"\n",
    "best_investors = pd.read_sql(q,conn, parse_dates=[\"funded_at\"])\n",
    "\n",
    "conn.close()"
   ]
  },
  {
   "cell_type": "code",
   "execution_count": 26,
   "metadata": {},
   "outputs": [
    {
     "data": {
      "text/html": [
       "<div>\n",
       "<style scoped>\n",
       "    .dataframe tbody tr th:only-of-type {\n",
       "        vertical-align: middle;\n",
       "    }\n",
       "\n",
       "    .dataframe tbody tr th {\n",
       "        vertical-align: top;\n",
       "    }\n",
       "\n",
       "    .dataframe thead th {\n",
       "        text-align: right;\n",
       "    }\n",
       "</style>\n",
       "<table border=\"1\" class=\"dataframe\">\n",
       "  <thead>\n",
       "    <tr style=\"text-align: right;\">\n",
       "      <th></th>\n",
       "      <th>investor</th>\n",
       "      <th>total_invested_millions</th>\n",
       "    </tr>\n",
       "  </thead>\n",
       "  <tbody>\n",
       "    <tr>\n",
       "      <th>0</th>\n",
       "      <td>Kleiner Perkins Caufield &amp; Byers</td>\n",
       "      <td>11217.826376</td>\n",
       "    </tr>\n",
       "    <tr>\n",
       "      <th>1</th>\n",
       "      <td>New Enterprise Associates</td>\n",
       "      <td>9692.542344</td>\n",
       "    </tr>\n",
       "    <tr>\n",
       "      <th>2</th>\n",
       "      <td>Accel Partners</td>\n",
       "      <td>6472.126199</td>\n",
       "    </tr>\n",
       "  </tbody>\n",
       "</table>\n",
       "</div>"
      ],
      "text/plain": [
       "                           investor  total_invested_millions\n",
       "0  Kleiner Perkins Caufield & Byers             11217.826376\n",
       "1         New Enterprise Associates              9692.542344\n",
       "2                    Accel Partners              6472.126199"
      ]
     },
     "execution_count": 26,
     "metadata": {},
     "output_type": "execute_result"
    }
   ],
   "source": [
    "best_investors.head(3)"
   ]
  },
  {
   "cell_type": "markdown",
   "metadata": {},
   "source": [
    "    The Top-3 investors are:\n",
    "        1. Kleiner Perkins Caufield & Byers, with 11217 million dollars\n",
    "        2. New Enterprise Associates, with 9692 million dollar\n",
    "        3. Accel Partners, with 6472 million dollar\n",
    "        \n",
    "- Which investors contributed the most money per startup?\n",
    "\n",
    "    Let's consider average investment / startup"
   ]
  },
  {
   "cell_type": "code",
   "execution_count": 27,
   "metadata": {},
   "outputs": [],
   "source": [
    "conn = sqlite3.connect(\"my_datasets/crunchbase.db\")\n",
    "\n",
    "# Top 3 investors per startup\n",
    "q = \"\"\"\n",
    "SELECT investor_name AS investor, AVG(raised_amount_usd)/1000000 AS average_invested_millions, COUNT(*) AS number_of_companies\n",
    "FROM investments\n",
    "GROUP BY investor_name\n",
    "ORDER BY average_invested_millions DESC\n",
    "LIMIT 10\n",
    "\"\"\"\n",
    "best_investors_per_startup = pd.read_sql(q,conn, parse_dates=[\"funded_at\"])\n",
    "\n",
    "conn.close()"
   ]
  },
  {
   "cell_type": "code",
   "execution_count": 28,
   "metadata": {},
   "outputs": [
    {
     "data": {
      "text/html": [
       "<div>\n",
       "<style scoped>\n",
       "    .dataframe tbody tr th:only-of-type {\n",
       "        vertical-align: middle;\n",
       "    }\n",
       "\n",
       "    .dataframe tbody tr th {\n",
       "        vertical-align: top;\n",
       "    }\n",
       "\n",
       "    .dataframe thead th {\n",
       "        text-align: right;\n",
       "    }\n",
       "</style>\n",
       "<table border=\"1\" class=\"dataframe\">\n",
       "  <thead>\n",
       "    <tr style=\"text-align: right;\">\n",
       "      <th></th>\n",
       "      <th>investor</th>\n",
       "      <th>average_invested_millions</th>\n",
       "      <th>number_of_companies</th>\n",
       "    </tr>\n",
       "  </thead>\n",
       "  <tbody>\n",
       "    <tr>\n",
       "      <th>0</th>\n",
       "      <td>Marlin Equity Partners</td>\n",
       "      <td>2600.0</td>\n",
       "      <td>1</td>\n",
       "    </tr>\n",
       "    <tr>\n",
       "      <th>1</th>\n",
       "      <td>BrightHouse</td>\n",
       "      <td>2350.0</td>\n",
       "      <td>2</td>\n",
       "    </tr>\n",
       "    <tr>\n",
       "      <th>2</th>\n",
       "      <td>GI Partners</td>\n",
       "      <td>1050.0</td>\n",
       "      <td>1</td>\n",
       "    </tr>\n",
       "  </tbody>\n",
       "</table>\n",
       "</div>"
      ],
      "text/plain": [
       "                 investor  average_invested_millions  number_of_companies\n",
       "0  Marlin Equity Partners                     2600.0                    1\n",
       "1             BrightHouse                     2350.0                    2\n",
       "2             GI Partners                     1050.0                    1"
      ]
     },
     "execution_count": 28,
     "metadata": {},
     "output_type": "execute_result"
    }
   ],
   "source": [
    "best_investors_per_startup.head(3)"
   ]
  },
  {
   "cell_type": "markdown",
   "metadata": {},
   "source": [
    "    The Top-3 investors per startup are:\n",
    "        1. Marlin Equity Partners, with an average of 2600 million dollars per startup (investment in 1 company)\n",
    "        2. BrightHouse, with an average of 2350 million dollars per startup (investment in 2 company)\n",
    "        3. GI Partners, with an average of 1050 million dollars per startup (investment in 1 company)\n",
    "        \n",
    "- Which funding round was the most popular? Which was the least popular?"
   ]
  },
  {
   "cell_type": "code",
   "execution_count": 29,
   "metadata": {},
   "outputs": [],
   "source": [
    "conn = sqlite3.connect(\"my_datasets/crunchbase.db\")\n",
    "\n",
    "# Funding rounds analysis\n",
    "q = \"\"\"\n",
    "SELECT funding_round_type AS funding_round, COUNT(*) AS number_of_companies, \n",
    "    SUM(raised_amount_usd)/1000000 AS total_invested_millions, AVG(raised_amount_usd)/1000000 AS average_invested_millions\n",
    "FROM investments\n",
    "GROUP BY funding_round_type\n",
    "ORDER BY number_of_companies DESC\n",
    "\"\"\"\n",
    "funding_round_info = pd.read_sql(q,conn, parse_dates=[\"funded_at\"])\n",
    "\n",
    "conn.close()"
   ]
  },
  {
   "cell_type": "code",
   "execution_count": 30,
   "metadata": {},
   "outputs": [
    {
     "data": {
      "text/html": [
       "<div>\n",
       "<style scoped>\n",
       "    .dataframe tbody tr th:only-of-type {\n",
       "        vertical-align: middle;\n",
       "    }\n",
       "\n",
       "    .dataframe tbody tr th {\n",
       "        vertical-align: top;\n",
       "    }\n",
       "\n",
       "    .dataframe thead th {\n",
       "        text-align: right;\n",
       "    }\n",
       "</style>\n",
       "<table border=\"1\" class=\"dataframe\">\n",
       "  <thead>\n",
       "    <tr style=\"text-align: right;\">\n",
       "      <th></th>\n",
       "      <th>funding_round</th>\n",
       "      <th>number_of_companies</th>\n",
       "      <th>total_invested_millions</th>\n",
       "      <th>average_invested_millions</th>\n",
       "    </tr>\n",
       "  </thead>\n",
       "  <tbody>\n",
       "    <tr>\n",
       "      <th>0</th>\n",
       "      <td>series-a</td>\n",
       "      <td>13938</td>\n",
       "      <td>86542.150833</td>\n",
       "      <td>6.469474</td>\n",
       "    </tr>\n",
       "    <tr>\n",
       "      <th>1</th>\n",
       "      <td>series-c+</td>\n",
       "      <td>10870</td>\n",
       "      <td>265753.464207</td>\n",
       "      <td>24.689099</td>\n",
       "    </tr>\n",
       "    <tr>\n",
       "      <th>2</th>\n",
       "      <td>angel</td>\n",
       "      <td>8989</td>\n",
       "      <td>4962.075061</td>\n",
       "      <td>0.690136</td>\n",
       "    </tr>\n",
       "    <tr>\n",
       "      <th>3</th>\n",
       "      <td>venture</td>\n",
       "      <td>8917</td>\n",
       "      <td>130556.496419</td>\n",
       "      <td>16.256568</td>\n",
       "    </tr>\n",
       "    <tr>\n",
       "      <th>4</th>\n",
       "      <td>series-b</td>\n",
       "      <td>8794</td>\n",
       "      <td>128326.776084</td>\n",
       "      <td>14.869847</td>\n",
       "    </tr>\n",
       "    <tr>\n",
       "      <th>5</th>\n",
       "      <td>other</td>\n",
       "      <td>964</td>\n",
       "      <td>18507.257968</td>\n",
       "      <td>19.815051</td>\n",
       "    </tr>\n",
       "    <tr>\n",
       "      <th>6</th>\n",
       "      <td>private-equity</td>\n",
       "      <td>357</td>\n",
       "      <td>16159.875901</td>\n",
       "      <td>51.794474</td>\n",
       "    </tr>\n",
       "    <tr>\n",
       "      <th>7</th>\n",
       "      <td>post-ipo</td>\n",
       "      <td>33</td>\n",
       "      <td>30917.600000</td>\n",
       "      <td>1066.124138</td>\n",
       "    </tr>\n",
       "    <tr>\n",
       "      <th>8</th>\n",
       "      <td>crowdfunding</td>\n",
       "      <td>5</td>\n",
       "      <td>6.491500</td>\n",
       "      <td>1.622875</td>\n",
       "    </tr>\n",
       "  </tbody>\n",
       "</table>\n",
       "</div>"
      ],
      "text/plain": [
       "    funding_round  number_of_companies  total_invested_millions  \\\n",
       "0        series-a                13938             86542.150833   \n",
       "1       series-c+                10870            265753.464207   \n",
       "2           angel                 8989              4962.075061   \n",
       "3         venture                 8917            130556.496419   \n",
       "4        series-b                 8794            128326.776084   \n",
       "5           other                  964             18507.257968   \n",
       "6  private-equity                  357             16159.875901   \n",
       "7        post-ipo                   33             30917.600000   \n",
       "8    crowdfunding                    5                 6.491500   \n",
       "\n",
       "   average_invested_millions  \n",
       "0                   6.469474  \n",
       "1                  24.689099  \n",
       "2                   0.690136  \n",
       "3                  16.256568  \n",
       "4                  14.869847  \n",
       "5                  19.815051  \n",
       "6                  51.794474  \n",
       "7                1066.124138  \n",
       "8                   1.622875  "
      ]
     },
     "execution_count": 30,
     "metadata": {},
     "output_type": "execute_result"
    }
   ],
   "source": [
    "funding_round_info = funding_round_info[funding_round_info[\"funding_round\"].notnull()]\n",
    "funding_round_info"
   ]
  },
  {
   "cell_type": "markdown",
   "metadata": {},
   "source": [
    "    The Top-3 of popular funding rounds are:\n",
    "        1. 'series-a' with a total of 13938 investments\n",
    "        2. 'series-c+' with a total of 10870 investments\n",
    "        3. 'angel' with a total of 8989 investments\n",
    "        \n",
    "    The Bottom-3 of popular funding rounds are:\n",
    "        1. 'crowdfunding' with a total of 5 investments\n",
    "        2. 'post-ipo' with a total of 33 investments\n",
    "        3. 'private-equity' with a total of 357 investments\n",
    "        \n",
    "    However, the information shows that number of investments is not directly related to the total amount of money (or average amount of money) acquired by the funding round type."
   ]
  }
 ],
 "metadata": {
  "kernelspec": {
   "display_name": "Python 3",
   "language": "python",
   "name": "python3"
  },
  "language_info": {
   "codemirror_mode": {
    "name": "ipython",
    "version": 3
   },
   "file_extension": ".py",
   "mimetype": "text/x-python",
   "name": "python",
   "nbconvert_exporter": "python",
   "pygments_lexer": "ipython3",
   "version": "3.7.3"
  }
 },
 "nbformat": 4,
 "nbformat_minor": 2
}
