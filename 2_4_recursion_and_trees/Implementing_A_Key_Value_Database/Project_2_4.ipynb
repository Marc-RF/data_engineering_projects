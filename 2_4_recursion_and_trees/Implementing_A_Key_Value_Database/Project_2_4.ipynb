{
 "cells": [
  {
   "cell_type": "markdown",
   "metadata": {},
   "source": [
    "# Implementing a Key-Value Database\n",
    "\n",
    "## Introduction\n",
    "\n",
    "In this guided project, we will be using the b-tree data structure from before as the building block for a fully functioning, saving-to-disk, key-value store.\n",
    "\n",
    "A [key-value store](https://en.wikipedia.org/wiki/Key-value_database) is a database that operates similar to a Python dictionary but stored in a file. There are the important get and set methods that the dictionary contains, but the key-value store will also provide an API for saving to disk, loading from disk, range queries of our data, and others. Our goal will be to create an easy to use, flexible, and adaptable key value store that other developers could use in their projects.\n",
    "\n",
    "For this guided project, we will inherit the majority of the behavior from the BTree class. However, we will redesign some of the API to make it more user friendly. Finally, we will be implementing some additional behavior to make it function as the key-value database that we expect.\n",
    "\n",
    "## Importing the existing classes\n",
    "\n",
    "We will import the \"**NodeKey**\", \"**Node**\" and \"**BTree**\" classes from the external python module called **btree.py**:"
   ]
  },
  {
   "cell_type": "code",
   "execution_count": 1,
   "metadata": {},
   "outputs": [],
   "source": [
    "from btree import NodeKey, Node, BTree\n",
    "#import pickle to dump and load\n",
    "import pickle"
   ]
  },
  {
   "cell_type": "markdown",
   "metadata": {},
   "source": [
    "## Creating a the class DQKV\n",
    "\n",
    "### Adding the set() and get() methods\n",
    "\n",
    "We will now create a class called **DQKV** (DataQuest Key-Value Store) inheriting properties from **BTree** class. Aside from all the existing methods, we will implement the **set()** and **get()** taking into account:\n",
    "-  **set()**: The kv store will set a value for some given key only if value is not None. The set() method should require the uniqueness of the key: that means if the key exists in the kv store, then throw a duplicate error.\n",
    "- **get()**: The kv store will get the value for the given key. However, if that key does not exist, the key-value store should throw an exception.\n",
    "\n",
    "We should think about the API design as we develop the get() and set() methods. A handy class that we might want to use is the **NodeKey** class that we have implemented before. With this class, we can try to make it so the user of the kv store does not have to create a NodeKey objects first before calling set() on the kv store."
   ]
  },
  {
   "cell_type": "code",
   "execution_count": 2,
   "metadata": {},
   "outputs": [],
   "source": [
    "class DQKV(BTree):\n",
    "    def set(self, key, value=None):\n",
    "        if value is None:\n",
    "            raise ValueError(\"A value must be introduced!\")\n",
    "        if self.search(self.root, key) is not None:\n",
    "            raise KeyError(\"Key {} already exists!\".format(key))\n",
    "        kv_node = NodeKey(key, value)\n",
    "        self.insert(kv_node)\n",
    "        \n",
    "    def get(self, key):\n",
    "        kv_value = self.search(self.root, key)\n",
    "        if kv_value is None:\n",
    "            raise KeyError(\"Key {} does not exist!\".format(key))\n",
    "        return kv_value"
   ]
  },
  {
   "cell_type": "code",
   "execution_count": 3,
   "metadata": {},
   "outputs": [
    {
     "data": {
      "text/plain": [
       "50000"
      ]
     },
     "execution_count": 3,
     "metadata": {},
     "output_type": "execute_result"
    }
   ],
   "source": [
    "#Test\n",
    "dq = DQKV(4)\n",
    "l1 = (i for i in range(100))\n",
    "l2 = (i*1000 for i in range(100))\n",
    "for key, value in zip(l1,l2):\n",
    "    dq.set(key,value)\n",
    "    \n",
    "dq.get(50)"
   ]
  },
  {
   "cell_type": "markdown",
   "metadata": {},
   "source": [
    "### Overriding the initializer\n",
    "\n",
    "Right now we allow any type to be set as our key. For our kv store to work with a b-tree, we need to set some data type as our key. If we don't then we would be doing comparisons on _ints_ and _strs_ for example.\n",
    "\n",
    "We should override the initializer and set some type that we use to validate the inserted keys in our set() method.\n",
    "\n",
    "An important thing to note is that when overriding the \\__init__() method, we also want to also call the parent \\__init__() method. If you don't then we would not be able to set the **self.t** and **self.root** properties that are expected."
   ]
  },
  {
   "cell_type": "code",
   "execution_count": 4,
   "metadata": {},
   "outputs": [],
   "source": [
    "class DQKV(BTree):\n",
    "    def __init__(self, key_type):\n",
    "        self.key_type = key_type\n",
    "        #We automatically set the degree value for the BTree initialization, as 6\n",
    "        super().__init__(6)\n",
    "        \n",
    "    def set(self, key, value=None):\n",
    "        if not isinstance(key, self.key_type):\n",
    "            raise KeyError(\"Key {} does not have type {}!\".format(key, self.key_type))\n",
    "        if self.search(self.root, key) is not None:\n",
    "            raise KeyError(\"Key {} already exists!\".format(key))\n",
    "        if value is None:\n",
    "            raise ValueError(\"A value must be introduced!\")\n",
    "        kv_node = NodeKey(key, value)\n",
    "        self.insert(kv_node)\n",
    "        \n",
    "    def get(self, key):\n",
    "        kv_value = self.search(self.root, key)\n",
    "        if kv_value is None:\n",
    "            raise KeyError(\"Key {} does not exist!\".format(key))\n",
    "        return kv_value"
   ]
  },
  {
   "cell_type": "code",
   "execution_count": 5,
   "metadata": {},
   "outputs": [
    {
     "data": {
      "text/plain": [
       "50000"
      ]
     },
     "execution_count": 5,
     "metadata": {},
     "output_type": "execute_result"
    }
   ],
   "source": [
    "#Test\n",
    "dq = DQKV(int)\n",
    "l1 = (i for i in range(100))\n",
    "l2 = (i*1000 for i in range(100))\n",
    "for key, value in zip(l1,l2):\n",
    "    dq.set(key,value)\n",
    "    \n",
    "dq.get(50)"
   ]
  },
  {
   "cell_type": "markdown",
   "metadata": {},
   "source": [
    "### Reimplementing the Range Queries\n",
    "\n",
    "The current range queries for **greater_than()** and **less_than()** are a bit tedious to work with. First, you have to pass in the root node, then you have to pass in a value, an optional upper bound, and then an inclusive! All these can be frustrating for a user who just wants to do a simple range query on their data.\n",
    "\n",
    "To solve this user experience problem, we will implement a new range query method that will abstract away the tedious work for the user. We will still use the old range queries under the hood, but we provide the user with better error returns so they can iteratively learn how to use the range query:\n",
    "\n",
    "``` python\n",
    "# This should return all the keys that are within the\n",
    "# interval (0, 5) inclusive.\n",
    "dqkv.range_query([0, 5], inclusive=True)\n",
    "# This should return all values greater than 6.\n",
    "dqkv.range_query([6, None])\n",
    "# This should return all values less than 6.\n",
    "dqkv.range_query([None, 6])\n",
    "```"
   ]
  },
  {
   "cell_type": "code",
   "execution_count": 6,
   "metadata": {},
   "outputs": [],
   "source": [
    "class DQKV(BTree):\n",
    "    def __init__(self, key_type):\n",
    "        self.key_type = key_type\n",
    "        #We automatically set the degree value for the BTree initialization, as 6\n",
    "        super().__init__(6)\n",
    "        \n",
    "    def set(self, key, value=None):\n",
    "        if not isinstance(key, self.key_type):\n",
    "            raise KeyError(\"Key {} does not have type {}!\".format(key, self.key_type))\n",
    "        if self.search(self.root, key) is not None:\n",
    "            raise KeyError(\"Key {} already exists!\".format(key))\n",
    "        if value is None:\n",
    "            raise ValueError(\"A value must be introduced!\")\n",
    "        kv_node = NodeKey(key, value)\n",
    "        self.insert(kv_node)\n",
    "        \n",
    "    def get(self, key):\n",
    "        kv_value = self.search(self.root, key)\n",
    "        if kv_value is None:\n",
    "            raise KeyError(\"Key {} does not exist!\".format(key))\n",
    "        return kv_value\n",
    "    \n",
    "    def range_query(self, q_range, inclusive=False):\n",
    "        if len(q_range) != 2:\n",
    "            raise ValueError(\"The range must have only 2 elements: minimum and maximum\")\n",
    "        low_range = q_range[0]\n",
    "        high_range = q_range[1]\n",
    "        if low_range is not None and high_range is not None:\n",
    "            if inclusive and low_range > high_range:\n",
    "                raise ValueError(\"When including the range thresholds, the minimum must be lower or equal than the maximum\")\n",
    "            if not inclusive and low_range >= high_range:\n",
    "                raise ValueError(\"When not including the range thresholds, the minimum must be lower than the maximum\")\n",
    "            return self.greater_than(self.root, low_range, upper_bound=high_range, inclusive=inclusive)\n",
    "        if low_range is not None:\n",
    "            return self.greater_than(self.root, low_range, inclusive=inclusive)\n",
    "        if high_range is not None:\n",
    "            return self.less_than(self.root, high_range, inclusive=inclusive)"
   ]
  },
  {
   "cell_type": "code",
   "execution_count": 7,
   "metadata": {},
   "outputs": [
    {
     "name": "stdout",
     "output_type": "stream",
     "text": [
      "[<NodeKey: (2, 2000)>, <NodeKey: (3, 3000)>, <NodeKey: (4, 4000)>]\n",
      "[<NodeKey: (5, 5000)>, <NodeKey: (1, 1000)>, <NodeKey: (2, 2000)>, <NodeKey: (3, 3000)>, <NodeKey: (4, 4000)>]\n",
      "[<NodeKey: (0, 0)>, <NodeKey: (1, 1000)>, <NodeKey: (2, 2000)>, <NodeKey: (3, 3000)>, <NodeKey: (4, 4000)>]\n",
      "[<NodeKey: (95, 95000)>, <NodeKey: (96, 96000)>, <NodeKey: (97, 97000)>, <NodeKey: (98, 98000)>, <NodeKey: (99, 99000)>]\n"
     ]
    }
   ],
   "source": [
    "#Test\n",
    "dq = DQKV(int)\n",
    "l1 = (i for i in range(100))\n",
    "l2 = (i*1000 for i in range(100))\n",
    "for key, value in zip(l1,l2):\n",
    "    dq.set(key,value)\n",
    "    \n",
    "print(dq.range_query([1,5]))\n",
    "print(dq.range_query([1,5], inclusive=True))\n",
    "print(dq.range_query([None,5]))\n",
    "print(dq.range_query([95,None], inclusive=True))"
   ]
  },
  {
   "cell_type": "markdown",
   "metadata": {},
   "source": [
    "### Dumping and Loading the KV Store\n",
    "\n",
    "The behavior we want to provide is to let a user pass in a filename to load or save to the object to disk. To make it easier for the user, we will attach a our filetype name to the end and check if that file is available to read or write out to.\n",
    "\n",
    "However, one thing to keep in mind is that we want to provide a **load() function** that is not an instance method of the DQKV class. The reason being is that we want to load from a file to create a DQKV instance. If it was an instance method, then it would be defeating the purpose of the behavior it is trying to provide.\n",
    "\n",
    "This is the behavior we would like to see:\n",
    "```python\n",
    "# Dumps out to a file called 'sample_kv.dqdb'\n",
    "dqkv.dump('sample_kv')\n",
    "# Loads from a file called 'sample_kv.dqdb' and\n",
    "# assigns the loaded object to an instance using\n",
    "# a function and not a instance method.\n",
    "dqkv_loaded = load_dqkv('sample_kv')\n",
    "```"
   ]
  },
  {
   "cell_type": "code",
   "execution_count": 8,
   "metadata": {},
   "outputs": [],
   "source": [
    "def load_dqkv(filename):\n",
    "    with open(filename + \".dqkv\",\"rb\") as f:\n",
    "            return pickle.load(f)"
   ]
  },
  {
   "cell_type": "code",
   "execution_count": 9,
   "metadata": {},
   "outputs": [],
   "source": [
    "class DQKV(BTree):\n",
    "    def __init__(self, key_type):\n",
    "        self.key_type = key_type\n",
    "        #We automatically set the degree value for the BTree initialization, as 6\n",
    "        super().__init__(6)\n",
    "        \n",
    "    def set(self, key, value=None):\n",
    "        if not isinstance(key, self.key_type):\n",
    "            raise KeyError(\"Key {} does not have type {}!\".format(key, self.key_type))\n",
    "        if self.search(self.root, key) is not None:\n",
    "            raise KeyError(\"Key {} already exists!\".format(key))\n",
    "        if value is None:\n",
    "            raise ValueError(\"A value must be introduced!\")\n",
    "        kv_node = NodeKey(key, value)\n",
    "        self.insert(kv_node)\n",
    "        \n",
    "    def get(self, key):\n",
    "        kv_value = self.search(self.root, key)\n",
    "        if kv_value is None:\n",
    "            raise KeyError(\"Key {} does not exist!\".format(key))\n",
    "        return kv_value\n",
    "    \n",
    "    def range_query(self, q_range, inclusive=False):\n",
    "        if len(q_range) != 2:\n",
    "            raise ValueError(\"The range must have only 2 elements: minimum and maximum\")\n",
    "        low_range = q_range[0]\n",
    "        high_range = q_range[1]\n",
    "        if low_range is not None and high_range is not None:\n",
    "            if inclusive and low_range > high_range:\n",
    "                raise ValueError(\"When including the range thresholds, the minimum must be lower or equal than the maximum\")\n",
    "            if not inclusive and low_range >= high_range:\n",
    "                raise ValueError(\"When not including the range thresholds, the minimum must be lower than the maximum\")\n",
    "            return self.greater_than(self.root, low_range, upper_bound=high_range, inclusive=inclusive)\n",
    "        if low_range is not None:\n",
    "            return self.greater_than(self.root, low_range, inclusive=inclusive)\n",
    "        if high_range is not None:\n",
    "            return self.less_than(self.root, high_range, inclusive=inclusive)\n",
    "        \n",
    "    def dump(self,filename):\n",
    "        with open(filename + \".dqkv\",\"wb\") as f:\n",
    "            pickle.dump(self, f)\n",
    "            return True\n",
    "        return False"
   ]
  },
  {
   "cell_type": "code",
   "execution_count": 10,
   "metadata": {},
   "outputs": [
    {
     "name": "stdout",
     "output_type": "stream",
     "text": [
      "[<NodeKey: (2, 2000)>, <NodeKey: (3, 3000)>, <NodeKey: (4, 4000)>]\n"
     ]
    }
   ],
   "source": [
    "#Test\n",
    "dq = DQKV(int)\n",
    "l1 = (i for i in range(100))\n",
    "l2 = (i*1000 for i in range(100))\n",
    "for key, value in zip(l1,l2):\n",
    "    dq.set(key,value)\n",
    "\n",
    "dq.dump(\"dqkv_test\")\n",
    "new_dq = load_dqkv(\"dqkv_test\")\n",
    "\n",
    "print(new_dq.range_query([1,5]))"
   ]
  },
  {
   "cell_type": "markdown",
   "metadata": {},
   "source": [
    "### Loading from Dictionary\n",
    "\n",
    "We are going to write a new method, called **load_from_dict()**, that loads in keys and values from a Python dict.\n",
    "\n",
    "We must take into account that a dict can have any key and we place a restriction on our keys."
   ]
  },
  {
   "cell_type": "code",
   "execution_count": 11,
   "metadata": {},
   "outputs": [],
   "source": [
    "class DQKV(BTree):\n",
    "    def __init__(self, key_type):\n",
    "        self.key_type = key_type\n",
    "        #We automatically set the degree value for the BTree initialization, as 6\n",
    "        super().__init__(6)\n",
    "        \n",
    "    def set(self, key, value=None):\n",
    "        if not isinstance(key, self.key_type):\n",
    "            raise KeyError(\"Key {} does not have type {}!\".format(key, self.key_type))\n",
    "        if self.search(self.root, key) is not None:\n",
    "            raise KeyError(\"Key {} already exists!\".format(key))\n",
    "        if value is None:\n",
    "            raise ValueError(\"A value must be introduced!\")\n",
    "        kv_node = NodeKey(key, value)\n",
    "        self.insert(kv_node)\n",
    "        \n",
    "    def get(self, key):\n",
    "        kv_value = self.search(self.root, key)\n",
    "        if kv_value is None:\n",
    "            raise KeyError(\"Key {} does not exist!\".format(key))\n",
    "        return kv_value\n",
    "    \n",
    "    def range_query(self, q_range, inclusive=False):\n",
    "        if len(q_range) != 2:\n",
    "            raise ValueError(\"The range must have only 2 elements: minimum and maximum\")\n",
    "        low_range = q_range[0]\n",
    "        high_range = q_range[1]\n",
    "        if low_range is not None and high_range is not None:\n",
    "            if inclusive and low_range > high_range:\n",
    "                raise ValueError(\"When including the range thresholds, the minimum must be lower or equal than the maximum\")\n",
    "            if not inclusive and low_range >= high_range:\n",
    "                raise ValueError(\"When not including the range thresholds, the minimum must be lower than the maximum\")\n",
    "            return self.greater_than(self.root, low_range, upper_bound=high_range, inclusive=inclusive)\n",
    "        if low_range is not None:\n",
    "            return self.greater_than(self.root, low_range, inclusive=inclusive)\n",
    "        if high_range is not None:\n",
    "            return self.less_than(self.root, high_range, inclusive=inclusive)\n",
    "        \n",
    "    def dump(self,filename):\n",
    "        with open(filename + \".dqkv\",\"wb\") as f:\n",
    "            pickle.dump(self, f)\n",
    "            return True\n",
    "        return False\n",
    "    \n",
    "    def load_from_dict(self, dictionary):\n",
    "        for key, value in dictionary.items():\n",
    "            if isinstance(key, self.key_type):\n",
    "                self.set(key, value)\n",
    "            else:\n",
    "                raise KeyError(\"Key {} does not have type {}!\".format(key, self.key_type))"
   ]
  },
  {
   "cell_type": "code",
   "execution_count": 12,
   "metadata": {},
   "outputs": [
    {
     "name": "stdout",
     "output_type": "stream",
     "text": [
      "[<NodeKey: (99, 99000)>, <NodeKey: (150, 150000)>, <NodeKey: (151, 151000)>, <NodeKey: (152, 152000)>]\n"
     ]
    }
   ],
   "source": [
    "#Test\n",
    "dq = DQKV(int)\n",
    "l1 = (i for i in range(100))\n",
    "l2 = (i*1000 for i in range(100))\n",
    "for key, value in zip(l1,l2):\n",
    "    dq.set(key,value)\n",
    "\n",
    "new_keys = {\n",
    "    150: 150000,\n",
    "    151: 151000,\n",
    "    152: 152000\n",
    "}\n",
    "\n",
    "dq.load_from_dict(new_keys)\n",
    "print(dq.range_query([98,None]))"
   ]
  }
 ],
 "metadata": {
  "kernelspec": {
   "display_name": "Python 3",
   "language": "python",
   "name": "python3"
  },
  "language_info": {
   "codemirror_mode": {
    "name": "ipython",
    "version": 3
   },
   "file_extension": ".py",
   "mimetype": "text/x-python",
   "name": "python",
   "nbconvert_exporter": "python",
   "pygments_lexer": "ipython3",
   "version": "3.7.3"
  }
 },
 "nbformat": 4,
 "nbformat_minor": 2
}
